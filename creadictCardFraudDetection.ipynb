{
  "nbformat": 4,
  "nbformat_minor": 0,
  "metadata": {
    "colab": {
      "provenance": []
    },
    "kernelspec": {
      "name": "python3",
      "display_name": "Python 3"
    },
    "language_info": {
      "name": "python"
    }
  },
  "cells": [
    {
      "cell_type": "markdown",
      "source": [
        "**Importing Dependencies**"
      ],
      "metadata": {
        "id": "BgXM8-2rjwoW"
      }
    },
    {
      "cell_type": "code",
      "execution_count": 39,
      "metadata": {
        "id": "KYRwwgs0iQ5V"
      },
      "outputs": [],
      "source": [
        "import numpy as np\n",
        "import pandas as pd\n",
        "from sklearn.model_selection import train_test_split\n",
        "from sklearn.linear_model import LogisticRegression\n",
        "from sklearn.metrics import accuracy_score"
      ]
    },
    {
      "cell_type": "code",
      "source": [
        "data=pd.read_csv('/content/creditcard.csv')\n",
        "print(data.head())"
      ],
      "metadata": {
        "id": "lcHOZqGukz97"
      },
      "execution_count": null,
      "outputs": []
    },
    {
      "cell_type": "code",
      "source": [
        "#credit card info\n",
        "\n",
        "data.info()"
      ],
      "metadata": {
        "id": "xjU-ayvJqN_h"
      },
      "execution_count": null,
      "outputs": []
    },
    {
      "cell_type": "code",
      "source": [
        "data['Class'].value_counts()        # 0 have normal transaction , 1 have fraud transaction"
      ],
      "metadata": {
        "id": "qjMxEmf3q9ld"
      },
      "execution_count": null,
      "outputs": []
    },
    {
      "cell_type": "code",
      "source": [
        "# Dataset is unbalancced first check dataset statistics\n",
        "data.describe()"
      ],
      "metadata": {
        "id": "ZfR8opQesr1i"
      },
      "execution_count": null,
      "outputs": []
    },
    {
      "cell_type": "code",
      "source": [
        "normal_transaction=data[data.Class==0]\n",
        "fraud=data[data['Class']==1]"
      ],
      "metadata": {
        "id": "Sy79pphw4E5n"
      },
      "execution_count": 44,
      "outputs": []
    },
    {
      "cell_type": "code",
      "source": [
        "normal_transaction.shape"
      ],
      "metadata": {
        "id": "-7t8Td-F4uE_"
      },
      "execution_count": null,
      "outputs": []
    },
    {
      "cell_type": "code",
      "source": [
        "fraud.shape\n"
      ],
      "metadata": {
        "id": "x8kWk2T540M3"
      },
      "execution_count": null,
      "outputs": []
    },
    {
      "cell_type": "code",
      "source": [
        "normal_sample=normal_transaction.sample(n=492)"
      ],
      "metadata": {
        "id": "bC5Zv2v-5DcR"
      },
      "execution_count": 47,
      "outputs": []
    },
    {
      "cell_type": "code",
      "source": [
        "normal_sample.shape"
      ],
      "metadata": {
        "id": "I3ewPwtC5L3D"
      },
      "execution_count": null,
      "outputs": []
    },
    {
      "cell_type": "code",
      "source": [
        "df=pd.concat([normal_sample,fraud],axis=0)\n",
        "df['Class'].value_counts()"
      ],
      "metadata": {
        "id": "Jnmmqeq35qTS"
      },
      "execution_count": null,
      "outputs": []
    },
    {
      "cell_type": "code",
      "source": [
        "df.groupby('Class').mean()"
      ],
      "metadata": {
        "id": "xANTJsgD6ZCg"
      },
      "execution_count": null,
      "outputs": []
    },
    {
      "cell_type": "code",
      "source": [
        "x_df=df.drop('Class', axis=1)\n",
        "y_df=df['Class']"
      ],
      "metadata": {
        "id": "h8wKzMZU6oYU"
      },
      "execution_count": 51,
      "outputs": []
    },
    {
      "cell_type": "code",
      "source": [
        "x_df.shape"
      ],
      "metadata": {
        "id": "6oHnE59z7GfQ"
      },
      "execution_count": null,
      "outputs": []
    },
    {
      "cell_type": "code",
      "source": [
        "x_train, x_test, y_train, y_test=train_test_split(x_df, y_df, test_size=0.2, stratify=y_df, random_state=2)"
      ],
      "metadata": {
        "id": "iRv9lA1-7Ufr"
      },
      "execution_count": 53,
      "outputs": []
    },
    {
      "cell_type": "code",
      "source": [
        "model=LogisticRegression()\n",
        "model.fit(x_train,y_train)\n",
        "pred=model.predict(x_test)"
      ],
      "metadata": {
        "id": "LrqMai3j8Gee"
      },
      "execution_count": 54,
      "outputs": []
    },
    {
      "cell_type": "code",
      "source": [
        "score=accuracy_score(y_test,pred)\n",
        "print(score)"
      ],
      "metadata": {
        "id": "skPqZgRY9NUg"
      },
      "execution_count": null,
      "outputs": []
    },
    {
      "cell_type": "code",
      "source": [
        "import pickle\n",
        "pickle.dump(model,open('model.pkl','wb'))"
      ],
      "metadata": {
        "id": "dXBzVgDwJAE-"
      },
      "execution_count": 57,
      "outputs": []
    }
  ]
}